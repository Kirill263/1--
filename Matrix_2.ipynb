{
 "cells": [
  {
   "cell_type": "code",
   "execution_count": 1,
   "id": "dd35d1ba",
   "metadata": {},
   "outputs": [
    {
     "name": "stdout",
     "output_type": "stream",
     "text": [
      "[[ 1 -1  1 -1]\n",
      " [-1  1 -1  1]\n",
      " [ 1 -1  1 -1]\n",
      " [-1  1 -1  1]]\n",
      "[[ 1 -1  1 -1]\n",
      " [-1  1 -1  1]\n",
      " [ 1 -1  1  1]\n",
      " [-1  1 -1  1]]\n",
      "-24\n",
      "Дельта равна: 8\n",
      "Переходим к 5 шагу\n",
      "4.5399929762484854e-05\n",
      "0.35357733431470584\n",
      "[[ 1 -1  1 -1]\n",
      " [-1  1 -1  1]\n",
      " [ 1 -1  1 -1]\n",
      " [-1  1 -1  1]]\n",
      "-32\n"
     ]
    },
    {
     "data": {
      "image/png": "[encoded data removed]",
      "text/plain": [
       "<Figure size 432x288 with 1 Axes>"
      ]
     },
     "metadata": {
      "needs_background": "light"
     },
     "output_type": "display_data"
    }
   ],
   "source": [
    "import pandas as pd\n",
    "import matplotlib.pyplot as plt\n",
    "import numpy as np\n",
    "import random\n",
    "from random import choice\n",
    "from math import exp\n",
    "\n",
    "def create_chessboard_matrix(size):\n",
    "    matrix = np.zeros((size, size), dtype=int)\n",
    "    for i in range(size):\n",
    "        for j in range(size):\n",
    "            if (i + j) % 2 == 0:\n",
    "                matrix[i][j] = 1\n",
    "            else:\n",
    "                matrix[i][j] = -1\n",
    "    return matrix\n",
    "\n",
    "T = 0.8\n",
    "size = 4\n",
    "\n",
    "# Шаг 1\n",
    "# Создаем матрицу в шахматном порядке.\n",
    "matrix1 = create_chessboard_matrix(size)\n",
    "print(matrix1)\n",
    "\n",
    "# Находим сумму матрицы №1.\n",
    "E1 = np.sum(matrix1 * np.roll(matrix1, shift=-1, axis=0) + np.roll(matrix1, shift=-1, axis=1) * matrix1)\n",
    "\n",
    "# Шаг 2\n",
    "# Случайным образом меняем знак случайного элемента на противоположный.\n",
    "a = random.randint(0, size-1)\n",
    "b = random.randint(0, size-1)\n",
    "matrix2 = np.copy(matrix1)\n",
    "matrix2[a][b] *= -1\n",
    "print(matrix2)\n",
    "\n",
    "# Шаг 3\n",
    "# Находим сумму матрицы №2.\n",
    "E2 = np.sum(matrix2 * np.roll(matrix2, shift=-1, axis=0) + np.roll(matrix2, shift=-1, axis=1) * matrix2)\n",
    "print(E2)\n",
    "\n",
    "# Шаг 4\n",
    "# Находим дельту.\n",
    "delta = E2 - E1\n",
    "if delta <= 0:\n",
    "    print('Вернуться к шагу 2')\n",
    "else:\n",
    "    print('Дельта равна:', delta)\n",
    "    print('Переходим к 5 шагу')\n",
    "\n",
    "# Шаг 5\n",
    "# Вычисляем по формуле величину W = exp(-∆Е / T), где T- константа.\n",
    "if delta > 0:\n",
    "    W = exp(-delta/T)\n",
    "    print(W)\n",
    "    # Генерируем случайное число P в интервале (0, 1)\n",
    "    P = random.random()\n",
    "    print(P)\n",
    "\n",
    "    if P <= W:\n",
    "        matrix1 = np.copy(matrix2)\n",
    "        E1 = E2\n",
    "    else:\n",
    "        matrix2 = np.copy(matrix1)\n",
    "\n",
    "    FinalMatrix = matrix2\n",
    "    E3 = E1\n",
    "    print(FinalMatrix)\n",
    "    print(E3)\n",
    "    plt.imshow(FinalMatrix)\n",
    "    plt.show()\n"
   ]
  },
  {
   "cell_type": "code",
   "execution_count": null,
   "id": "95ddc434",
   "metadata": {},
   "outputs": [],
   "source": []
  }
 ],
 "metadata": {
  "kernelspec": {
   "display_name": "Python 3 (ipykernel)",
   "language": "python",
   "name": "python3"
  },
  "language_info": {
   "codemirror_mode": {
    "name": "ipython",
    "version": 3
   },
   "file_extension": ".py",
   "mimetype": "text/x-python",
   "name": "python",
   "nbconvert_exporter": "python",
   "pygments_lexer": "ipython3",
   "version": "3.8.8"
  }
 },
 "nbformat": 4,
 "nbformat_minor": 5
}
