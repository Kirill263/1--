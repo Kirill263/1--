{
 "cells": [
  {
   "cell_type": "code",
   "execution_count": 11,
   "id": "716fba03",
   "metadata": {},
   "outputs": [
    {
     "name": "stdout",
     "output_type": "stream",
     "text": [
      "[[-1  1  1  1]\n",
      " [-1  1 -1  1]\n",
      " [ 1 -1  1 -1]\n",
      " [-1  1  1 -1]]\n",
      "-8\n"
     ]
    }
   ],
   "source": [
    "import numpy as np\n",
    "import random\n",
    "from random import choice\n",
    "\n",
    "ones = [-1, 1]\n",
    "size = 4\n",
    "matrix1 = np.array([[choice(ones) for i in range(size)] for j in range(size)])\n",
    "sum1 = 0\n",
    "for i in range(size):\n",
    "    for j in range(size-1):\n",
    "        sum1 += matrix1[i][j]*matrix1[i][j+1]\n",
    "    sum1 += matrix1[i][size-1]*matrix1[i][0]\n",
    "    \n",
    "    matrix_transpose = np.transpose(matrix1)\n",
    "    sum2 = 0\n",
    "    for k in range(size):\n",
    "        for m in range(size-1):\n",
    "            sum2 += matrix_transpose[k][m]*matrix_transpose[k][m+1]\n",
    "        sum2 += matrix_transpose[k][size-1]*matrix_transpose[k][0]\n",
    "print(matrix1)\n",
    "\n",
    "sum=sum1+sum2\n",
    "print(sum)"
   ]
  }
 ],
 "metadata": {
  "kernelspec": {
   "display_name": "Python 3 (ipykernel)",
   "language": "python",
   "name": "python3"
  },
  "language_info": {
   "codemirror_mode": {
    "name": "ipython",
    "version": 3
   },
   "file_extension": ".py",
   "mimetype": "text/x-python",
   "name": "python",
   "nbconvert_exporter": "python",
   "pygments_lexer": "ipython3",
   "version": "3.8.8"
  }
 },
 "nbformat": 4,
 "nbformat_minor": 5
}
