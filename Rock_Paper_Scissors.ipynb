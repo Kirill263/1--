{
 "cells": [
  {
   "cell_type": "code",
   "execution_count": 1,
   "id": "49e7c0e6",
   "metadata": {},
   "outputs": [
    {
     "name": "stdout",
     "output_type": "stream",
     "text": [
      "input word: rock\n",
      "you lose\n"
     ]
    }
   ],
   "source": [
    "from random import randint\n",
    "\n",
    "\n",
    "def game():\n",
    "    choices = [\"rock\", \"paper\", \"scissors\"]\n",
    "    comp_choice = choices[randint(0, 2)]\n",
    "    user_choice = input(\"input word: \")\n",
    "    if user_choice not in choices:\n",
    "        print('error, try again')\n",
    "        game()\n",
    "    else:\n",
    "        if comp_choice == user_choice:\n",
    "            print(\"Draw\")\n",
    "        elif user_choice == \"rock\" and comp_choice == \"scissors\":\n",
    "            print(\"you win\")\n",
    "        elif user_choice == \"rock\" and comp_choice == \"paper\":\n",
    "            print(\"you lose\")\n",
    "        elif user_choice == \"scissors\" and comp_choice == \"rock\":\n",
    "            print(\"you lose\")\n",
    "        elif user_choice == \"scissors\" and comp_choice == \"paper\":\n",
    "            print(\"you win\")\n",
    "        elif user_choice == \"paper\" and comp_choice == \"rock\":\n",
    "            print(\"you win\")\n",
    "        elif user_choice == \"paper\" and comp_choice == \"scissors\":\n",
    "            print(\"you lose\")\n",
    "\n",
    "\n",
    "game()"
   ]
  },
  {
   "cell_type": "code",
   "execution_count": null,
   "id": "a2894d10",
   "metadata": {},
   "outputs": [],
   "source": []
  }
 ],
 "metadata": {
  "kernelspec": {
   "display_name": "Python 3 (ipykernel)",
   "language": "python",
   "name": "python3"
  },
  "language_info": {
   "codemirror_mode": {
    "name": "ipython",
    "version": 3
   },
   "file_extension": ".py",
   "mimetype": "text/x-python",
   "name": "python",
   "nbconvert_exporter": "python",
   "pygments_lexer": "ipython3",
   "version": "3.8.8"
  }
 },
 "nbformat": 4,
 "nbformat_minor": 5
}
